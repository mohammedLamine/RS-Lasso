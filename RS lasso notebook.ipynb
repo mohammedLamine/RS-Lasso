{
 "cells": [
  {
   "cell_type": "code",
   "execution_count": 1,
   "metadata": {
    "scrolled": true
   },
   "outputs": [],
   "source": [
    "import sys\n",
    "sys.path.append('./geolytics/')\n",
    "from geolytics_analysis.data_simulation import DataSimulation\n",
    "from geolytics_analysis import paper_models"
   ]
  },
  {
   "cell_type": "markdown",
   "metadata": {},
   "source": [
    "# Data simulation"
   ]
  },
  {
   "cell_type": "markdown",
   "metadata": {},
   "source": [
    "#### This portion of code generates data as described in the article. choosing a high number of sections (p) and a high number of days (n_days) may cause performance issues. the default parameters p=500 and n_days=100 takes several hours to fininsh."
   ]
  },
  {
   "cell_type": "code",
   "execution_count": 2,
   "metadata": {},
   "outputs": [],
   "source": [
    "data_sim =  DataSimulation(p=200,n_days=100,t_switch=8)\n",
    "full_days_data=data_sim.generate_data()\n",
    "sim_train_df,sim_train_intercept,sim_test_df,sim_test_intercept= data_sim.split_center_data()"
   ]
  },
  {
   "cell_type": "markdown",
   "metadata": {},
   "source": [
    "# OLS"
   ]
  },
  {
   "cell_type": "code",
   "execution_count": 3,
   "metadata": {},
   "outputs": [
    {
     "name": "stdout",
     "output_type": "stream",
     "text": [
      "[====================================================================================================] 100%\n",
      "Validation MSE: 12.028891306332804\n",
      "Validation MAE: 2.4842002991591654\n",
      "Test MSE: 12.49015823546652\n",
      "Test MAE: 2.5056124230661503\n"
     ]
    },
    {
     "data": {
      "text/plain": [
       "(12.49015823546652, 2.5056124230661503)"
      ]
     },
     "execution_count": 3,
     "metadata": {},
     "output_type": "execute_result"
    }
   ],
   "source": [
    "Ols = paper_models.Ols(sim_train_df,sim_test_df,train_intercept=sim_train_intercept,test_intercept=sim_test_intercept)\n",
    "Ols.train()\n",
    "Ols.predict()"
   ]
  },
  {
   "cell_type": "markdown",
   "metadata": {},
   "source": [
    "# Lasso"
   ]
  },
  {
   "cell_type": "code",
   "execution_count": 4,
   "metadata": {},
   "outputs": [
    {
     "name": "stdout",
     "output_type": "stream",
     "text": [
      "[====================================================================================================] 100%\n",
      "Validation MSE: 11.454699705588158\n",
      "Validation MAE: 2.4206663358732046\n",
      "Test MSE: 11.785718010919553\n",
      "Test MAE: 2.441743844452976\n"
     ]
    },
    {
     "data": {
      "text/plain": [
       "(11.785718010919553, 2.441743844452976)"
      ]
     },
     "execution_count": 4,
     "metadata": {},
     "output_type": "execute_result"
    }
   ],
   "source": [
    "Lasso = paper_models.Lasso(sim_train_df,sim_test_df,train_intercept=sim_train_intercept,test_intercept=sim_test_intercept)\n",
    "Lasso.train()\n",
    "Lasso.predict()"
   ]
  },
  {
   "cell_type": "markdown",
   "metadata": {},
   "source": [
    "# Ridge"
   ]
  },
  {
   "cell_type": "code",
   "execution_count": 5,
   "metadata": {},
   "outputs": [
    {
     "name": "stdout",
     "output_type": "stream",
     "text": [
      "[====================================================================================================] 100%\n",
      "Validation MSE: 11.932471185749637\n",
      "Validation MAE: 2.5032273584640587\n",
      "Test MSE: 12.262323154662953\n",
      "Test MAE: 2.5210037571309867\n"
     ]
    }
   ],
   "source": [
    "RidgeCV = paper_models.RidgeCV(sim_train_df,sim_test_df,train_intercept=sim_train_intercept,test_intercept=sim_test_intercept)\n",
    "RidgeCV.train()\n",
    "RidgeCV.predict()"
   ]
  },
  {
   "cell_type": "markdown",
   "metadata": {},
   "source": [
    "# ElasticNet"
   ]
  },
  {
   "cell_type": "code",
   "execution_count": 6,
   "metadata": {},
   "outputs": [
    {
     "name": "stdout",
     "output_type": "stream",
     "text": [
      "[====================================================================================================] 100%\n",
      "Validation MSE: 11.566268429501916\n",
      "Validation MAE: 2.4405663029940357\n",
      "Test MSE: 11.891430092833856\n",
      "Test MAE: 2.457627728131975\n"
     ]
    }
   ],
   "source": [
    "ElasticNet = paper_models.ElasticNet(sim_train_df,sim_test_df,train_intercept=sim_train_intercept,test_intercept=sim_test_intercept)\n",
    "ElasticNet.train()\n",
    "ElasticNet.predict()"
   ]
  },
  {
   "cell_type": "markdown",
   "metadata": {},
   "source": [
    "# TSLasso"
   ]
  },
  {
   "cell_type": "code",
   "execution_count": null,
   "metadata": {},
   "outputs": [
    {
     "name": "stdout",
     "output_type": "stream",
     "text": [
      "subset 0\n",
      "[====================================================================================================] 100%\n",
      "subset 1\n",
      "[====================================================================================================] 100%\n",
      "subset 2\n",
      "[====================================================================================================] 100%\n",
      "subset 3\n",
      "[====================================================================================================] 100%\n",
      "subset 4\n",
      "[====================================================================================================] 100%\n",
      "subset 5\n",
      "[====================================================================================================] 100%\n",
      "subset 6\n",
      "[====================================================================================================] 100%\n",
      "subset 7\n",
      "[====================================================================================================] 100%\n",
      "subset 8\n",
      "[====================================================================================================] 100%\n",
      "subset 9\n",
      "[================================                                                                    ] 32%"
     ]
    }
   ],
   "source": [
    "TSLasso = paper_models.TSLasso(sim_train_df,sim_test_df,train_intercept=sim_train_intercept,test_intercept=sim_test_intercept)\n",
    "TSLasso.train()\n",
    "TSLasso.predict()"
   ]
  },
  {
   "cell_type": "markdown",
   "metadata": {},
   "source": [
    "# RSLasso\n"
   ]
  },
  {
   "cell_type": "code",
   "execution_count": null,
   "metadata": {
    "scrolled": true
   },
   "outputs": [],
   "source": [
    "RSLasso = paper_models.RSLasso(sim_train_df,sim_test_df,train_intercept=sim_train_intercept,test_intercept=sim_test_intercept)\n",
    "RSLasso.train()\n",
    "RSLasso.predict()"
   ]
  },
  {
   "cell_type": "markdown",
   "metadata": {},
   "source": [
    "# Visualisation"
   ]
  },
  {
   "cell_type": "code",
   "execution_count": null,
   "metadata": {},
   "outputs": [],
   "source": [
    "import matplotlib.pyplot as plt\n",
    "import seaborn as sns\n",
    "from  geolytics_analysis import model_comparator\n",
    "from  geolytics_analysis import models\n",
    "sns.set()"
   ]
  },
  {
   "cell_type": "code",
   "execution_count": null,
   "metadata": {},
   "outputs": [],
   "source": [
    "models_predictions={}\n",
    "models_predictions['Lasso'] = Lasso.test_prediction\n",
    "models_predictions['Ols'] = Ols.test_prediction\n",
    "models_predictions['TSLasso'] = TSLasso.test_prediction\n",
    "models_predictions['RSLasso'] = RSLasso.test_prediction\n",
    "models_predictions['ElasticNet'] = ElasticNet.test_prediction\n",
    "models_predictions['RidgeCV'] = RidgeCV.test_prediction\n",
    "\n",
    "input_lag = 5\n",
    "output_lag=1\n",
    "true_model=models.DataModel(sim_test_df,input_lag,output_lag,20,valid_split=1)\n",
    "true_model.preprocessData()\n",
    "true_values=true_model.restorePredictionsAsDF(true_model.trainSplit()[1],'train')\n",
    "mc=model_comparator.ModelCompare(models_predictions.copy(),\n",
    "                                 true_values=true_values)"
   ]
  },
  {
   "cell_type": "code",
   "execution_count": null,
   "metadata": {},
   "outputs": [],
   "source": [
    "res_table=mc.comparisonTable().round(2)\n",
    "res_table=res_table.sort_index()\n",
    "res_table"
   ]
  },
  {
   "cell_type": "code",
   "execution_count": null,
   "metadata": {},
   "outputs": [],
   "source": [
    "\n",
    "\n",
    "\n",
    "plt.figure(figsize=(8,4))\n",
    "mc.fontsize=20\n",
    "mc.futurError()\n",
    "plt.legend(ncol=4,loc=(0.0,1.01),fontsize=13)\n",
    "plt.xticks(fontsize=15)\n",
    "plt.yticks(fontsize=15);\n"
   ]
  },
  {
   "cell_type": "code",
   "execution_count": null,
   "metadata": {},
   "outputs": [],
   "source": [
    "plt.figure(figsize=(8,4))\n",
    "mc.plotTimeError()\n",
    "plt.legend(ncol=4,loc=(0.0,1.01),fontsize=13)\n",
    "plt.xticks(fontsize=15)\n",
    "plt.yticks(fontsize=15);"
   ]
  }
 ],
 "metadata": {
  "kernelspec": {
   "display_name": "Python 3",
   "language": "python",
   "name": "python3"
  },
  "language_info": {
   "codemirror_mode": {
    "name": "ipython",
    "version": 3
   },
   "file_extension": ".py",
   "mimetype": "text/x-python",
   "name": "python",
   "nbconvert_exporter": "python",
   "pygments_lexer": "ipython3",
   "version": "3.8.2"
  }
 },
 "nbformat": 4,
 "nbformat_minor": 4
}
